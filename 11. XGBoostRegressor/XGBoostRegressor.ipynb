{
  "nbformat": 4,
  "nbformat_minor": 0,
  "metadata": {
    "colab": {
      "name": "XGBoostRegressor.ipynb",
      "provenance": []
    },
    "kernelspec": {
      "name": "python3",
      "display_name": "Python 3"
    }
  },
  "cells": [
    {
      "cell_type": "code",
      "metadata": {
        "id": "ifFjKAQ8HBkd",
        "colab_type": "code",
        "colab": {}
      },
      "source": [
        "#Import Libraries \n",
        "import pandas as pd\n",
        "import numpy as np\n",
        "import matplotlib.pyplot as plt\n",
        "from sklearn.preprocessing import LabelEncoder, OneHotEncoder\n",
        "from sklearn.compose import ColumnTransformer\n",
        "import warnings\n",
        "warnings.filterwarnings(\"ignore\", category=DeprecationWarning)"
      ],
      "execution_count": 1,
      "outputs": []
    },
    {
      "cell_type": "code",
      "metadata": {
        "id": "bT2yafj8I1ul",
        "colab_type": "code",
        "colab": {
          "base_uri": "https://localhost:8080/",
          "height": 195
        },
        "outputId": "bb2bc290-e24e-4be4-a36e-58aa9cdaaaa2"
      },
      "source": [
        "#Importing The Dataset\n",
        "dataset = pd.read_csv('insurance charges.csv')\n",
        "dataset.head()"
      ],
      "execution_count": 2,
      "outputs": [
        {
          "output_type": "execute_result",
          "data": {
            "text/html": [
              "<div>\n",
              "<style scoped>\n",
              "    .dataframe tbody tr th:only-of-type {\n",
              "        vertical-align: middle;\n",
              "    }\n",
              "\n",
              "    .dataframe tbody tr th {\n",
              "        vertical-align: top;\n",
              "    }\n",
              "\n",
              "    .dataframe thead th {\n",
              "        text-align: right;\n",
              "    }\n",
              "</style>\n",
              "<table border=\"1\" class=\"dataframe\">\n",
              "  <thead>\n",
              "    <tr style=\"text-align: right;\">\n",
              "      <th></th>\n",
              "      <th>age</th>\n",
              "      <th>sex</th>\n",
              "      <th>bmi</th>\n",
              "      <th>children</th>\n",
              "      <th>smoker</th>\n",
              "      <th>region</th>\n",
              "      <th>charges</th>\n",
              "    </tr>\n",
              "  </thead>\n",
              "  <tbody>\n",
              "    <tr>\n",
              "      <th>0</th>\n",
              "      <td>19</td>\n",
              "      <td>female</td>\n",
              "      <td>27.900</td>\n",
              "      <td>0</td>\n",
              "      <td>yes</td>\n",
              "      <td>southwest</td>\n",
              "      <td>16884.92400</td>\n",
              "    </tr>\n",
              "    <tr>\n",
              "      <th>1</th>\n",
              "      <td>18</td>\n",
              "      <td>male</td>\n",
              "      <td>33.770</td>\n",
              "      <td>1</td>\n",
              "      <td>no</td>\n",
              "      <td>southeast</td>\n",
              "      <td>1725.55230</td>\n",
              "    </tr>\n",
              "    <tr>\n",
              "      <th>2</th>\n",
              "      <td>28</td>\n",
              "      <td>male</td>\n",
              "      <td>33.000</td>\n",
              "      <td>3</td>\n",
              "      <td>no</td>\n",
              "      <td>southeast</td>\n",
              "      <td>4449.46200</td>\n",
              "    </tr>\n",
              "    <tr>\n",
              "      <th>3</th>\n",
              "      <td>33</td>\n",
              "      <td>male</td>\n",
              "      <td>22.705</td>\n",
              "      <td>0</td>\n",
              "      <td>no</td>\n",
              "      <td>northwest</td>\n",
              "      <td>21984.47061</td>\n",
              "    </tr>\n",
              "    <tr>\n",
              "      <th>4</th>\n",
              "      <td>32</td>\n",
              "      <td>male</td>\n",
              "      <td>28.880</td>\n",
              "      <td>0</td>\n",
              "      <td>no</td>\n",
              "      <td>northwest</td>\n",
              "      <td>3866.85520</td>\n",
              "    </tr>\n",
              "  </tbody>\n",
              "</table>\n",
              "</div>"
            ],
            "text/plain": [
              "   age     sex     bmi  children smoker     region      charges\n",
              "0   19  female  27.900         0    yes  southwest  16884.92400\n",
              "1   18    male  33.770         1     no  southeast   1725.55230\n",
              "2   28    male  33.000         3     no  southeast   4449.46200\n",
              "3   33    male  22.705         0     no  northwest  21984.47061\n",
              "4   32    male  28.880         0     no  northwest   3866.85520"
            ]
          },
          "metadata": {
            "tags": []
          },
          "execution_count": 2
        }
      ]
    },
    {
      "cell_type": "code",
      "metadata": {
        "id": "cglRxwhPJOse",
        "colab_type": "code",
        "colab": {
          "base_uri": "https://localhost:8080/",
          "height": 34
        },
        "outputId": "e82fa450-b685-41f1-b047-bb77bc299a87"
      },
      "source": [
        "#Missing Data ?\n",
        "dataset.isna().any().any()"
      ],
      "execution_count": 3,
      "outputs": [
        {
          "output_type": "execute_result",
          "data": {
            "text/plain": [
              "False"
            ]
          },
          "metadata": {
            "tags": []
          },
          "execution_count": 3
        }
      ]
    },
    {
      "cell_type": "code",
      "metadata": {
        "id": "HkVYSNzqJYyX",
        "colab_type": "code",
        "colab": {
          "base_uri": "https://localhost:8080/",
          "height": 252
        },
        "outputId": "3ad44f81-9c6f-4982-d744-2d1455300ee1"
      },
      "source": [
        "#Get Statistical data\n",
        "dataset.describe"
      ],
      "execution_count": 4,
      "outputs": [
        {
          "output_type": "execute_result",
          "data": {
            "text/plain": [
              "<bound method NDFrame.describe of       age     sex     bmi  children smoker     region      charges\n",
              "0      19  female  27.900         0    yes  southwest  16884.92400\n",
              "1      18    male  33.770         1     no  southeast   1725.55230\n",
              "2      28    male  33.000         3     no  southeast   4449.46200\n",
              "3      33    male  22.705         0     no  northwest  21984.47061\n",
              "4      32    male  28.880         0     no  northwest   3866.85520\n",
              "...   ...     ...     ...       ...    ...        ...          ...\n",
              "1333   50    male  30.970         3     no  northwest  10600.54830\n",
              "1334   18  female  31.920         0     no  northeast   2205.98080\n",
              "1335   18  female  36.850         0     no  southeast   1629.83350\n",
              "1336   21  female  25.800         0     no  southwest   2007.94500\n",
              "1337   61  female  29.070         0    yes  northwest  29141.36030\n",
              "\n",
              "[1338 rows x 7 columns]>"
            ]
          },
          "metadata": {
            "tags": []
          },
          "execution_count": 4
        }
      ]
    },
    {
      "cell_type": "code",
      "metadata": {
        "id": "mII2GKP6Jxws",
        "colab_type": "code",
        "colab": {}
      },
      "source": [
        "#Create X features and y targets\n",
        "X = dataset.iloc[:, 0:6].values\n",
        "y = dataset.iloc[:, 6].values"
      ],
      "execution_count": 5,
      "outputs": []
    },
    {
      "cell_type": "code",
      "metadata": {
        "id": "g39nW3LjKULN",
        "colab_type": "code",
        "colab": {
          "base_uri": "https://localhost:8080/",
          "height": 134
        },
        "outputId": "d463922d-debc-4b41-c1c9-539d50796c22"
      },
      "source": [
        "print(X)"
      ],
      "execution_count": 6,
      "outputs": [
        {
          "output_type": "stream",
          "text": [
            "[[19 'female' 27.9 0 'yes' 'southwest']\n",
            " [18 'male' 33.77 1 'no' 'southeast']\n",
            " [28 'male' 33.0 3 'no' 'southeast']\n",
            " ...\n",
            " [18 'female' 36.85 0 'no' 'southeast']\n",
            " [21 'female' 25.8 0 'no' 'southwest']\n",
            " [61 'female' 29.07 0 'yes' 'northwest']]\n"
          ],
          "name": "stdout"
        }
      ]
    },
    {
      "cell_type": "code",
      "metadata": {
        "id": "Y2qS7c3bKWj6",
        "colab_type": "code",
        "colab": {
          "base_uri": "https://localhost:8080/",
          "height": 34
        },
        "outputId": "59462ff4-1e21-4c51-efe6-083cd8b65cd6"
      },
      "source": [
        "print(y)"
      ],
      "execution_count": 7,
      "outputs": [
        {
          "output_type": "stream",
          "text": [
            "[16884.924   1725.5523  4449.462  ...  1629.8335  2007.945  29141.3603]\n"
          ],
          "name": "stdout"
        }
      ]
    },
    {
      "cell_type": "code",
      "metadata": {
        "id": "Xg2kIAWaKag8",
        "colab_type": "code",
        "colab": {
          "base_uri": "https://localhost:8080/",
          "height": 50
        },
        "outputId": "9abecac5-296e-49f8-d3b1-d470ee3fe161"
      },
      "source": [
        "print('X Shape: ', X.shape)\n",
        "print('y Shape: ', y.shape)"
      ],
      "execution_count": 8,
      "outputs": [
        {
          "output_type": "stream",
          "text": [
            "X Shape:  (1338, 6)\n",
            "y Shape:  (1338,)\n"
          ],
          "name": "stdout"
        }
      ]
    },
    {
      "cell_type": "code",
      "metadata": {
        "id": "7D6eCpazPBM_",
        "colab_type": "code",
        "colab": {
          "base_uri": "https://localhost:8080/",
          "height": 134
        },
        "outputId": "763ea6b9-8e74-4eba-cf63-c26ec1872438"
      },
      "source": [
        "#Encoding Categorical Data (Gender Column)\n",
        "le = LabelEncoder()\n",
        "X[:, 1] = le.fit_transform(X[:, 1])\n",
        "print(X)"
      ],
      "execution_count": 9,
      "outputs": [
        {
          "output_type": "stream",
          "text": [
            "[[19 0 27.9 0 'yes' 'southwest']\n",
            " [18 1 33.77 1 'no' 'southeast']\n",
            " [28 1 33.0 3 'no' 'southeast']\n",
            " ...\n",
            " [18 0 36.85 0 'no' 'southeast']\n",
            " [21 0 25.8 0 'no' 'southwest']\n",
            " [61 0 29.07 0 'yes' 'northwest']]\n"
          ],
          "name": "stdout"
        }
      ]
    },
    {
      "cell_type": "code",
      "metadata": {
        "id": "aCBxidp_PiHe",
        "colab_type": "code",
        "colab": {
          "base_uri": "https://localhost:8080/",
          "height": 134
        },
        "outputId": "5e83c513-5528-4c89-d2d9-919650f10160"
      },
      "source": [
        "#Encoding categorical Data (Smoker Column)\n",
        "X[:, 4] = le.fit_transform(X[:, 4])\n",
        "print(X)"
      ],
      "execution_count": 10,
      "outputs": [
        {
          "output_type": "stream",
          "text": [
            "[[19 0 27.9 0 1 'southwest']\n",
            " [18 1 33.77 1 0 'southeast']\n",
            " [28 1 33.0 3 0 'southeast']\n",
            " ...\n",
            " [18 0 36.85 0 0 'southeast']\n",
            " [21 0 25.8 0 0 'southwest']\n",
            " [61 0 29.07 0 1 'northwest']]\n"
          ],
          "name": "stdout"
        }
      ]
    },
    {
      "cell_type": "code",
      "metadata": {
        "id": "IH3DhurtP7Ry",
        "colab_type": "code",
        "colab": {
          "base_uri": "https://localhost:8080/",
          "height": 134
        },
        "outputId": "3df3061f-aabb-4fb3-98ef-dcaf5b19b985"
      },
      "source": [
        "#One Hot Encode region Column\n",
        "ct_region = ColumnTransformer(transformers=[('region', OneHotEncoder(), [5])], remainder='passthrough')\n",
        "X = ct_region.fit_transform(X)\n",
        "print(X)"
      ],
      "execution_count": 11,
      "outputs": [
        {
          "output_type": "stream",
          "text": [
            "[[0.0 0.0 0.0 ... 27.9 0 1]\n",
            " [0.0 0.0 1.0 ... 33.77 1 0]\n",
            " [0.0 0.0 1.0 ... 33.0 3 0]\n",
            " ...\n",
            " [0.0 0.0 1.0 ... 36.85 0 0]\n",
            " [0.0 0.0 0.0 ... 25.8 0 0]\n",
            " [0.0 1.0 0.0 ... 29.07 0 1]]\n"
          ],
          "name": "stdout"
        }
      ]
    },
    {
      "cell_type": "code",
      "metadata": {
        "id": "N5N3bXbvRfmw",
        "colab_type": "code",
        "colab": {}
      },
      "source": [
        "#Splitting dataset Into Training & Testing Data\n",
        "from sklearn.model_selection import train_test_split\n",
        "X_train, X_test, y_train, y_test = train_test_split(X, y,\n",
        "                                                    test_size = 0.2,\n",
        "                                                    random_state=0)"
      ],
      "execution_count": 12,
      "outputs": []
    },
    {
      "cell_type": "code",
      "metadata": {
        "id": "kQe8Mb1GQ8xz",
        "colab_type": "code",
        "colab": {
          "base_uri": "https://localhost:8080/",
          "height": 134
        },
        "outputId": "ce575a1c-1ca1-459d-9198-a1208a18085a"
      },
      "source": [
        "from xgboost import XGBRegressor\n",
        "regressor = XGBRegressor(random_state=42, silent=True)\n",
        "regressor.fit(X_train, y_train)"
      ],
      "execution_count": 13,
      "outputs": [
        {
          "output_type": "execute_result",
          "data": {
            "text/plain": [
              "XGBRegressor(base_score=0.5, booster='gbtree', colsample_bylevel=1,\n",
              "             colsample_bynode=1, colsample_bytree=1, gamma=0,\n",
              "             importance_type='gain', learning_rate=0.1, max_delta_step=0,\n",
              "             max_depth=3, min_child_weight=1, missing=None, n_estimators=100,\n",
              "             n_jobs=1, nthread=None, objective='reg:linear', random_state=42,\n",
              "             reg_alpha=0, reg_lambda=1, scale_pos_weight=1, seed=None,\n",
              "             silent=True, subsample=1, verbosity=1)"
            ]
          },
          "metadata": {
            "tags": []
          },
          "execution_count": 13
        }
      ]
    },
    {
      "cell_type": "code",
      "metadata": {
        "id": "tqHngiWXSdoX",
        "colab_type": "code",
        "colab": {
          "base_uri": "https://localhost:8080/",
          "height": 402
        },
        "outputId": "d4f808c2-d880-462b-e5b9-ffe7ea68a1bd"
      },
      "source": [
        "#Predicting The Test Results\n",
        "y_pred = regressor.predict(X_test)\n",
        "results_comparison = pd.DataFrame({\"Actual Costs\": y_test.flatten(), \"Predicted Costs\": y_pred.flatten().round(2)})\n",
        "results_comparison"
      ],
      "execution_count": 14,
      "outputs": [
        {
          "output_type": "execute_result",
          "data": {
            "text/html": [
              "<div>\n",
              "<style scoped>\n",
              "    .dataframe tbody tr th:only-of-type {\n",
              "        vertical-align: middle;\n",
              "    }\n",
              "\n",
              "    .dataframe tbody tr th {\n",
              "        vertical-align: top;\n",
              "    }\n",
              "\n",
              "    .dataframe thead th {\n",
              "        text-align: right;\n",
              "    }\n",
              "</style>\n",
              "<table border=\"1\" class=\"dataframe\">\n",
              "  <thead>\n",
              "    <tr style=\"text-align: right;\">\n",
              "      <th></th>\n",
              "      <th>Actual Costs</th>\n",
              "      <th>Predicted Costs</th>\n",
              "    </tr>\n",
              "  </thead>\n",
              "  <tbody>\n",
              "    <tr>\n",
              "      <th>0</th>\n",
              "      <td>9724.53000</td>\n",
              "      <td>12687.620117</td>\n",
              "    </tr>\n",
              "    <tr>\n",
              "      <th>1</th>\n",
              "      <td>8547.69130</td>\n",
              "      <td>10116.120117</td>\n",
              "    </tr>\n",
              "    <tr>\n",
              "      <th>2</th>\n",
              "      <td>45702.02235</td>\n",
              "      <td>46235.839844</td>\n",
              "    </tr>\n",
              "    <tr>\n",
              "      <th>3</th>\n",
              "      <td>12950.07120</td>\n",
              "      <td>14842.809570</td>\n",
              "    </tr>\n",
              "    <tr>\n",
              "      <th>4</th>\n",
              "      <td>9644.25250</td>\n",
              "      <td>12036.009766</td>\n",
              "    </tr>\n",
              "    <tr>\n",
              "      <th>...</th>\n",
              "      <td>...</td>\n",
              "      <td>...</td>\n",
              "    </tr>\n",
              "    <tr>\n",
              "      <th>263</th>\n",
              "      <td>15019.76005</td>\n",
              "      <td>17838.000000</td>\n",
              "    </tr>\n",
              "    <tr>\n",
              "      <th>264</th>\n",
              "      <td>6664.68595</td>\n",
              "      <td>7342.319824</td>\n",
              "    </tr>\n",
              "    <tr>\n",
              "      <th>265</th>\n",
              "      <td>20709.02034</td>\n",
              "      <td>11739.879883</td>\n",
              "    </tr>\n",
              "    <tr>\n",
              "      <th>266</th>\n",
              "      <td>40932.42950</td>\n",
              "      <td>40649.710938</td>\n",
              "    </tr>\n",
              "    <tr>\n",
              "      <th>267</th>\n",
              "      <td>9500.57305</td>\n",
              "      <td>9649.929688</td>\n",
              "    </tr>\n",
              "  </tbody>\n",
              "</table>\n",
              "<p>268 rows × 2 columns</p>\n",
              "</div>"
            ],
            "text/plain": [
              "     Actual Costs  Predicted Costs\n",
              "0      9724.53000     12687.620117\n",
              "1      8547.69130     10116.120117\n",
              "2     45702.02235     46235.839844\n",
              "3     12950.07120     14842.809570\n",
              "4      9644.25250     12036.009766\n",
              "..            ...              ...\n",
              "263   15019.76005     17838.000000\n",
              "264    6664.68595      7342.319824\n",
              "265   20709.02034     11739.879883\n",
              "266   40932.42950     40649.710938\n",
              "267    9500.57305      9649.929688\n",
              "\n",
              "[268 rows x 2 columns]"
            ]
          },
          "metadata": {
            "tags": []
          },
          "execution_count": 14
        }
      ]
    },
    {
      "cell_type": "code",
      "metadata": {
        "id": "Gu8ToACDSrzu",
        "colab_type": "code",
        "colab": {
          "base_uri": "https://localhost:8080/",
          "height": 50
        },
        "outputId": "9a7d2ca2-e69d-48f1-db3f-6e37c27e2173"
      },
      "source": [
        "from sklearn import metrics \n",
        "print('Train Score: {:.2f} %'.format(regressor.score(X_train, y_train) * 100))  \n",
        "print('Test Score: {:.2f} %'.format(regressor.score(X_test, y_test) *100))"
      ],
      "execution_count": 15,
      "outputs": [
        {
          "output_type": "stream",
          "text": [
            "Train Score: 89.06 %\n",
            "Test Score: 89.91 %\n"
          ],
          "name": "stdout"
        }
      ]
    },
    {
      "cell_type": "code",
      "metadata": {
        "id": "_FL_0JgPTq7I",
        "colab_type": "code",
        "colab": {
          "base_uri": "https://localhost:8080/",
          "height": 67
        },
        "outputId": "0d61be62-f057-45f8-eb31-2f170b74d900"
      },
      "source": [
        "print(\"Mean Absolute Error\", metrics.mean_absolute_error(y_test, y_pred))\n",
        "print(\"Mean Squared Error\", metrics.mean_squared_error(y_test, y_pred))\n",
        "print(\"Root Mean Squared Error\", np.sqrt(metrics.mean_squared_error(y_test, y_pred)))"
      ],
      "execution_count": 16,
      "outputs": [
        {
          "output_type": "stream",
          "text": [
            "Mean Absolute Error 2417.2510406013002\n",
            "Mean Squared Error 16059852.73093341\n",
            "Root Mean Squared Error 4007.4746076467422\n"
          ],
          "name": "stdout"
        }
      ]
    },
    {
      "cell_type": "code",
      "metadata": {
        "id": "pvgfVRhjXSh5",
        "colab_type": "code",
        "colab": {
          "base_uri": "https://localhost:8080/",
          "height": 50
        },
        "outputId": "d3f412a9-7765-49dd-c5af-1ac825531651"
      },
      "source": [
        "#Applying K-fold Cross validation \n",
        "from sklearn.model_selection import cross_val_score\n",
        "accs = cross_val_score(estimator = regressor, X = X_train, y = y_train, cv = 10)\n",
        "print('Accuracy: {:.2f} %'.format(accs.mean()*100))\n",
        "print('Standard Deviation: {:.2f} %'.format(accs.std()*100))"
      ],
      "execution_count": 17,
      "outputs": [
        {
          "output_type": "stream",
          "text": [
            "Accuracy: 84.41 %\n",
            "Standard Deviation: 4.07 %\n"
          ],
          "name": "stdout"
        }
      ]
    }
  ]
}