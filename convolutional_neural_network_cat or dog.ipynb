{
 "cells": [
  {
   "cell_type": "code",
   "execution_count": 1,
   "metadata": {
    "id": "Cpo0znHX8Xw1"
   },
   "outputs": [],
   "source": [
    "#Import the libraries\n",
    "import tensorflow as tf\n",
    "from keras.preprocessing.image import ImageDataGenerator\n",
    "import numpy as np\n",
    "from keras.preprocessing import image"
   ]
  },
  {
   "cell_type": "code",
   "execution_count": 2,
   "metadata": {
    "colab": {
     "base_uri": "https://localhost:8080/",
     "height": 35
    },
    "id": "3kMeyy3t8eRZ",
    "outputId": "ed15cfcc-57d0-4504-dbdf-0f4784ca3a00"
   },
   "outputs": [
    {
     "data": {
      "text/plain": [
       "'2.3.1'"
      ]
     },
     "execution_count": 2,
     "metadata": {},
     "output_type": "execute_result"
    }
   ],
   "source": [
    "#check the tensorflow version \n",
    "tf.__version__"
   ]
  },
  {
   "cell_type": "code",
   "execution_count": 3,
   "metadata": {
    "id": "UlUFRplj8ry9"
   },
   "outputs": [
    {
     "name": "stdout",
     "output_type": "stream",
     "text": [
      "Found 8000 images belonging to 2 classes.\n"
     ]
    }
   ],
   "source": [
    "#Preprocessing The Training set\n",
    "train_datagen = ImageDataGenerator(\n",
    "        rescale=1./255,\n",
    "        shear_range=0.2,\n",
    "        zoom_range=0.2,\n",
    "        horizontal_flip=True)\n",
    "\n",
    "training_set = train_datagen.flow_from_directory(\n",
    "        'dataset/training_set',\n",
    "        target_size=(64, 64),\n",
    "        batch_size=32,\n",
    "        class_mode='binary')"
   ]
  },
  {
   "cell_type": "code",
   "execution_count": 5,
   "metadata": {
    "id": "eW5E_cFNBMRT"
   },
   "outputs": [
    {
     "name": "stdout",
     "output_type": "stream",
     "text": [
      "Found 2000 images belonging to 2 classes.\n"
     ]
    }
   ],
   "source": [
    "#Preprocessing The test Set\n",
    "test_datagen = ImageDataGenerator(rescale=1./255)\n",
    "\n",
    "test_set = test_datagen.flow_from_directory(\n",
    "        'dataset/test_set',\n",
    "        target_size=(64, 64),\n",
    "        batch_size=32,\n",
    "        class_mode='binary')"
   ]
  },
  {
   "cell_type": "code",
   "execution_count": 6,
   "metadata": {
    "id": "I8FLulXlBjtT"
   },
   "outputs": [],
   "source": [
    "#Initializing The CNN\n",
    "cnn = tf.keras.models.Sequential()"
   ]
  },
  {
   "cell_type": "code",
   "execution_count": 7,
   "metadata": {
    "id": "GWbidzuKCO0_"
   },
   "outputs": [],
   "source": [
    "#Step 1 - Convolution\n",
    "cnn.add(tf.keras.layers.Conv2D(filters=32, kernel_size=3, activation='relu', input_shape=[64, 64, 3]))"
   ]
  },
  {
   "cell_type": "code",
   "execution_count": 8,
   "metadata": {
    "id": "4Qbx1ig3DXQu"
   },
   "outputs": [],
   "source": [
    "#Step 2 - Pooling \n",
    "cnn.add(tf.keras.layers.MaxPool2D(pool_size=2, strides=2))"
   ]
  },
  {
   "cell_type": "code",
   "execution_count": 9,
   "metadata": {
    "id": "53b8Y1wcH5ic"
   },
   "outputs": [],
   "source": [
    "#Step 3 - Add A Second Convolutional Layer\n",
    "cnn.add(tf.keras.layers.Conv2D(filters=32, kernel_size=3, activation='relu'))\n",
    "cnn.add(tf.keras.layers.MaxPool2D(pool_size=2, strides=2))"
   ]
  },
  {
   "cell_type": "code",
   "execution_count": 10,
   "metadata": {
    "id": "DL8dDZUAISdT"
   },
   "outputs": [],
   "source": [
    "#Step 4 - Flattening \n",
    "cnn.add(tf.keras.layers.Flatten())"
   ]
  },
  {
   "cell_type": "code",
   "execution_count": 11,
   "metadata": {
    "id": "bzSyf4JGIhcO"
   },
   "outputs": [],
   "source": [
    "#Step 5 - Full Connection \n",
    "cnn.add(tf.keras.layers.Dense(units=128, activation='relu'))"
   ]
  },
  {
   "cell_type": "code",
   "execution_count": 12,
   "metadata": {
    "id": "aEhOsFszI9zB"
   },
   "outputs": [],
   "source": [
    "#Step 6 - Add Output Layer\n",
    "cnn.add(tf.keras.layers.Dense(units=1, activation='sigmoid'))"
   ]
  },
  {
   "cell_type": "code",
   "execution_count": 13,
   "metadata": {
    "id": "TLbAIYoiJVJs"
   },
   "outputs": [],
   "source": [
    "#Compiling The CNN\n",
    "cnn.compile(optimizer='adam', loss='binary_crossentropy', metrics=['accuracy'])"
   ]
  },
  {
   "cell_type": "code",
   "execution_count": 14,
   "metadata": {
    "id": "buIOmwBRKV7Q"
   },
   "outputs": [
    {
     "name": "stdout",
     "output_type": "stream",
     "text": [
      "Epoch 1/25\n",
      "250/250 [==============================] - 73s 294ms/step - loss: 0.6717 - accuracy: 0.5730 - val_loss: 0.7156 - val_accuracy: 0.5745\n",
      "Epoch 2/25\n",
      "250/250 [==============================] - 71s 285ms/step - loss: 0.5923 - accuracy: 0.6795 - val_loss: 0.5395 - val_accuracy: 0.7325\n",
      "Epoch 3/25\n",
      "250/250 [==============================] - 72s 289ms/step - loss: 0.5580 - accuracy: 0.7109 - val_loss: 0.5437 - val_accuracy: 0.7340\n",
      "Epoch 4/25\n",
      "250/250 [==============================] - 73s 292ms/step - loss: 0.5302 - accuracy: 0.7293 - val_loss: 0.5122 - val_accuracy: 0.7450\n",
      "Epoch 5/25\n",
      "250/250 [==============================] - 72s 290ms/step - loss: 0.5147 - accuracy: 0.7450 - val_loss: 0.5064 - val_accuracy: 0.7535\n",
      "Epoch 6/25\n",
      "250/250 [==============================] - 130s 521ms/step - loss: 0.4957 - accuracy: 0.7591 - val_loss: 0.5052 - val_accuracy: 0.7610\n",
      "Epoch 7/25\n",
      "250/250 [==============================] - 72s 287ms/step - loss: 0.4806 - accuracy: 0.7685 - val_loss: 0.4899 - val_accuracy: 0.7700\n",
      "Epoch 8/25\n",
      "250/250 [==============================] - 73s 291ms/step - loss: 0.4601 - accuracy: 0.7821 - val_loss: 0.5093 - val_accuracy: 0.7690\n",
      "Epoch 9/25\n",
      "250/250 [==============================] - 73s 292ms/step - loss: 0.4563 - accuracy: 0.7874 - val_loss: 0.5190 - val_accuracy: 0.7620\n",
      "Epoch 10/25\n",
      "250/250 [==============================] - 72s 290ms/step - loss: 0.4468 - accuracy: 0.7935 - val_loss: 0.4652 - val_accuracy: 0.7865\n",
      "Epoch 11/25\n",
      "250/250 [==============================] - 72s 290ms/step - loss: 0.4232 - accuracy: 0.8029 - val_loss: 0.5331 - val_accuracy: 0.7680\n",
      "Epoch 12/25\n",
      "250/250 [==============================] - 278s 1s/step - loss: 0.4179 - accuracy: 0.8059 - val_loss: 0.4779 - val_accuracy: 0.7890\n",
      "Epoch 13/25\n",
      "250/250 [==============================] - 477s 2s/step - loss: 0.4029 - accuracy: 0.8167 - val_loss: 0.4628 - val_accuracy: 0.8040\n",
      "Epoch 14/25\n",
      "250/250 [==============================] - 72s 289ms/step - loss: 0.3920 - accuracy: 0.8201 - val_loss: 0.4713 - val_accuracy: 0.7915\n",
      "Epoch 15/25\n",
      "250/250 [==============================] - 74s 298ms/step - loss: 0.3835 - accuracy: 0.8219 - val_loss: 0.4599 - val_accuracy: 0.7970\n",
      "Epoch 16/25\n",
      "250/250 [==============================] - 73s 291ms/step - loss: 0.3738 - accuracy: 0.8300 - val_loss: 0.4637 - val_accuracy: 0.7985\n",
      "Epoch 17/25\n",
      "250/250 [==============================] - 496s 2s/step - loss: 0.3596 - accuracy: 0.8419 - val_loss: 0.5251 - val_accuracy: 0.7820\n",
      "Epoch 18/25\n",
      "250/250 [==============================] - 73s 291ms/step - loss: 0.3592 - accuracy: 0.8366 - val_loss: 0.4583 - val_accuracy: 0.7985\n",
      "Epoch 19/25\n",
      "250/250 [==============================] - 65s 258ms/step - loss: 0.3384 - accuracy: 0.8547 - val_loss: 0.4472 - val_accuracy: 0.8085\n",
      "Epoch 20/25\n",
      "250/250 [==============================] - 53s 213ms/step - loss: 0.3337 - accuracy: 0.8560 - val_loss: 0.5275 - val_accuracy: 0.8065\n",
      "Epoch 21/25\n",
      "250/250 [==============================] - 56s 223ms/step - loss: 0.3230 - accuracy: 0.8616 - val_loss: 0.4578 - val_accuracy: 0.8060\n",
      "Epoch 22/25\n",
      "250/250 [==============================] - 56s 224ms/step - loss: 0.3105 - accuracy: 0.8662 - val_loss: 0.4999 - val_accuracy: 0.7860\n",
      "Epoch 23/25\n",
      "250/250 [==============================] - 57s 226ms/step - loss: 0.3019 - accuracy: 0.8706 - val_loss: 0.4565 - val_accuracy: 0.8125\n",
      "Epoch 24/25\n",
      "250/250 [==============================] - 60s 239ms/step - loss: 0.2907 - accuracy: 0.8783 - val_loss: 0.5275 - val_accuracy: 0.7925\n",
      "Epoch 25/25\n",
      "250/250 [==============================] - 60s 241ms/step - loss: 0.2780 - accuracy: 0.8864 - val_loss: 0.4891 - val_accuracy: 0.8115\n"
     ]
    },
    {
     "data": {
      "text/plain": [
       "<tensorflow.python.keras.callbacks.History at 0x139cbdfa0>"
      ]
     },
     "execution_count": 14,
     "metadata": {},
     "output_type": "execute_result"
    }
   ],
   "source": [
    "#Training the CNN on The Training Set\n",
    "cnn.fit(x = training_set, validation_data = test_set, epochs=25)"
   ]
  },
  {
   "cell_type": "code",
   "execution_count": 16,
   "metadata": {
    "id": "2c5BxnzgLG1n"
   },
   "outputs": [],
   "source": [
    "#Make Predictions \n",
    "test_image = image.load_img('dataset/single_prediction/cat_or_dog_1.jpg', target_size =(64, 64))\n",
    "test_image = image.img_to_array(test_image)\n",
    "test_image = np.expand_dims(test_image, axis=0)\n",
    "result = cnn.predict(test_image)\n",
    "training_set.class_indices\n",
    "if result[0][0] == 1:\n",
    "    prediction = 'dog'\n",
    "else:\n",
    "    prediction = 'cat'\n"
   ]
  },
  {
   "cell_type": "code",
   "execution_count": 17,
   "metadata": {},
   "outputs": [
    {
     "name": "stdout",
     "output_type": "stream",
     "text": [
      "dog\n"
     ]
    }
   ],
   "source": [
    "print(prediction)"
   ]
  },
  {
   "cell_type": "code",
   "execution_count": 18,
   "metadata": {},
   "outputs": [],
   "source": [
    "#Make Predictions \n",
    "test_image = image.load_img('dataset/single_prediction/cat_or_dog_2.jpg', target_size =(64, 64))\n",
    "test_image = image.img_to_array(test_image)\n",
    "test_image = np.expand_dims(test_image, axis=0)\n",
    "result = cnn.predict(test_image)\n",
    "training_set.class_indices\n",
    "if result[0][0] == 1:\n",
    "    prediction = 'dog'\n",
    "else:\n",
    "    prediction = 'cat'"
   ]
  },
  {
   "cell_type": "code",
   "execution_count": 19,
   "metadata": {},
   "outputs": [
    {
     "name": "stdout",
     "output_type": "stream",
     "text": [
      "cat\n"
     ]
    }
   ],
   "source": [
    "print(prediction)"
   ]
  }
 ],
 "metadata": {
  "colab": {
   "name": "Untitled0.ipynb",
   "provenance": []
  },
  "kernelspec": {
   "display_name": "Python 3",
   "language": "python",
   "name": "python3"
  },
  "language_info": {
   "codemirror_mode": {
    "name": "ipython",
    "version": 3
   },
   "file_extension": ".py",
   "mimetype": "text/x-python",
   "name": "python",
   "nbconvert_exporter": "python",
   "pygments_lexer": "ipython3",
   "version": "3.8.5"
  }
 },
 "nbformat": 4,
 "nbformat_minor": 1
}
